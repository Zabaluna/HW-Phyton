{
  "nbformat": 4,
  "nbformat_minor": 0,
  "metadata": {
    "colab": {
      "provenance": [],
      "authorship_tag": "ABX9TyNKTIBBaSnMYT5vTXXdqrMr",
      "include_colab_link": true
    },
    "kernelspec": {
      "name": "python3",
      "display_name": "Python 3"
    },
    "language_info": {
      "name": "python"
    }
  },
  "cells": [
    {
      "cell_type": "markdown",
      "metadata": {
        "id": "view-in-github",
        "colab_type": "text"
      },
      "source": [
        "<a href=\"https://colab.research.google.com/github/Zabaluna/HW-Python/blob/analytics/Analytics_HW_1.ipynb\" target=\"_parent\"><img src=\"https://colab.research.google.com/assets/colab-badge.svg\" alt=\"Open In Colab\"/></a>"
      ]
    },
    {
      "cell_type": "markdown",
      "source": [
        "# **Урок 1. Оформление ноутбука и закрепление функций и генераторов**"
      ],
      "metadata": {
        "id": "HDN9rnxQA7zP"
      }
    },
    {
      "cell_type": "markdown",
      "source": [
        "## Задача 1\n",
        "\n",
        "Оформляйте ноутбук, используя эти советы:\n",
        "<br> Номер задачи - заголовок 2;\n",
        "<br>Номер подзадачи - заголовок 3;\n",
        "<br>Предоставленные наборы данных оформляйте, как код."
      ],
      "metadata": {
        "id": "CYSGj9n9CCjI"
      }
    },
    {
      "cell_type": "markdown",
      "source": [
        "##Задача 2\n",
        "\n",
        "На складе лежат разные фрукты в разном количестве.\n",
        "<br> Нужно написать функцию, которая на вход принимает любое количество названий фруктов и их количество, а возвращает общее количество фруктов на складе"
      ],
      "metadata": {
        "id": "wDPfKY9QA8Ln"
      }
    },
    {
      "cell_type": "code",
      "execution_count": 3,
      "metadata": {
        "colab": {
          "base_uri": "https://localhost:8080/"
        },
        "id": "g5YhOnnKAoOY",
        "outputId": "b7c55de4-496b-426e-fad5-98cbcbd68cb9"
      },
      "outputs": [
        {
          "output_type": "stream",
          "name": "stdout",
          "text": [
            "Всего фруктов на складе:\n"
          ]
        },
        {
          "output_type": "execute_result",
          "data": {
            "text/plain": [
              "23"
            ]
          },
          "metadata": {},
          "execution_count": 3
        }
      ],
      "source": [
        "def fruits(**kwargs):\n",
        "    count = 0\n",
        "    for values in kwargs.values():\n",
        "      count += values\n",
        "    return count  \n",
        "\n",
        "print(f'Всего фруктов на складе:')\n",
        "fruits(orange = 8, apple = 7, lemon = 5, peach = 3)"
      ]
    },
    {
      "cell_type": "markdown",
      "source": [
        "##Задача 3\n",
        "\n",
        "Дан список с затратами на рекламу. Но в данных есть ошибки, некоторые затраты имеют отрицательную величину. Удалите такие значения из списка и посчитайте суммарные затраты\n",
        "[100, 125, -90, 345, 655, -1, 0, 200]\n",
        "<br>Используйте list comprehensions"
      ],
      "metadata": {
        "id": "eWB4GerHA8PW"
      }
    },
    {
      "cell_type": "code",
      "source": [
        "data = [100, 125, -90, 345, 655, -1, 0, 200]\n",
        "plusdata = [i for i in data if i >0]\n",
        "print(plusdata)\n",
        "print('Суммарные затраты:',sum(plusdata))"
      ],
      "metadata": {
        "colab": {
          "base_uri": "https://localhost:8080/"
        },
        "id": "aUBM6xGtn7Yd",
        "outputId": "4060476f-28e5-4949-bf02-408296406de3"
      },
      "execution_count": 11,
      "outputs": [
        {
          "output_type": "stream",
          "name": "stdout",
          "text": [
            "[100, 125, 345, 655, 200]\n",
            "Суммарные затраты: 1425\n"
          ]
        }
      ]
    },
    {
      "cell_type": "markdown",
      "source": [
        "##Задача 4\n",
        "\n",
        "Даны 2 списка\n",
        "<br>Дата покупки\n",
        "<br>['2021-09-14', '2021-12-15', '2021-09-08', '2021-12-05', '2021-10-09', '2021-09-30', '2021-12-22', '2021-11-29', '2021-12-24', '2021-11-26', '2021-10-27', '2021-12-18', '2021-11-09', '2021-11-23', '2021-09-27', '2021-10-02', '2021-12-27', '2021-09-20', '2021-12-13', '2021-11-01', '2021-11-09', '2021-12-06', '2021-12-08', '2021-10-09', '2021-10-31', '2021-09-30', '2021-11-09', '2021-12-13', '2021-10-26', '2021-12-09']\n",
        "<br>Суммы покупок по датам\n",
        "<br>[1270, 8413, 9028, 3703, 5739, 4095, 295, 4944, 5723, 3701, 4471, 651, 7037, 4274, 6275, 4988, 6930, 2971, 6592, 2004, 2822, 519, 3406, 2732, 5015, 2008, 316, 6333, 5700, 2887]"
      ],
      "metadata": {
        "id": "sTw7pyKWCRRg"
      }
    },
    {
      "cell_type": "markdown",
      "source": [
        "### Условие 4.1 \n",
        "Найдите, какая выручка у компании в ноябре\n",
        "Используйте list comprehensions"
      ],
      "metadata": {
        "id": "Q_fJm-UyA8UO"
      }
    },
    {
      "cell_type": "code",
      "source": [
        "dates = ['2021-09-14', '2021-12-15', '2021-09-08', '2021-12-05', '2021-10-09', '2021-09-30',\n",
        "         '2021-12-22', '2021-11-29', '2021-12-24', '2021-11-26', '2021-10-27', '2021-12-18',\n",
        "         '2021-11-09', '2021-11-23', '2021-09-27', '2021-10-02', '2021-12-27', '2021-09-20',\n",
        "         '2021-12-13', '2021-11-01', '2021-11-09', '2021-12-06', '2021-12-08', '2021-10-09',\n",
        "         '2021-10-31', '2021-09-30', '2021-11-09', '2021-12-13', '2021-10-26', '2021-12-09']\n",
        "amount = [1270, 8413, 9028, 3703, 5739, 4095, 295, 4944, 5723, 3701, 4471, 651, 7037, 4274, 6275,\n",
        "          4988, 6930, 2971, 6592, 2004, 2822, 519, 3406, 2732, 5015, 2008, 316, 6333, 5700, 2887]\n",
        "\n",
        "novembersum = sum([amount[i] for i in range(len(dates)) if dates[i][5:7] == '11']) \n",
        "print('Выручка компании в ноябре:',novembersum)        "
      ],
      "metadata": {
        "colab": {
          "base_uri": "https://localhost:8080/"
        },
        "id": "P6CYWl_NruS7",
        "outputId": "3654d559-1dbf-4b65-9fcb-e0f1de742acd"
      },
      "execution_count": 17,
      "outputs": [
        {
          "output_type": "stream",
          "name": "stdout",
          "text": [
            "Выручка компании в ноябре: 25098\n"
          ]
        }
      ]
    },
    {
      "cell_type": "markdown",
      "source": [
        "###Условие 4.2\n",
        "Найдите выручку компании в зависимости от месяца\n",
        "<br>Для этого напишите функцию, которая на вход принимает список с датами и список с выручкой, а на выходе словарь, где ключи - это месяцы, а значения - это выручка.\n",
        "<br>Используйте аннотирование типов."
      ],
      "metadata": {
        "id": "Wdp9ylMarQe0"
      }
    },
    {
      "cell_type": "code",
      "source": [
        "def total_amount_of_months(dates: list, amount: list) -> dict:\n",
        "    amount_of_month = {}\n",
        "    \n",
        "    for i in range(len(dates)):\n",
        "        month = dates[i].split('-')[1]\n",
        "        if month in amount_of_month.keys():\n",
        "            amount_of_month[month] += amount[i]\n",
        "        else:\n",
        "            amount_of_month[month] = amount[i]\n",
        "              \n",
        "    return amount_of_month\n",
        "\n",
        "print('Выручка по месяцам:', total_amount_of_months(dates, amount))\n",
        "\n"
      ],
      "metadata": {
        "colab": {
          "base_uri": "https://localhost:8080/"
        },
        "id": "MWIBV9eKrkR2",
        "outputId": "45408adb-c20e-4f6f-e28b-dc4186552be3"
      },
      "execution_count": 22,
      "outputs": [
        {
          "output_type": "stream",
          "name": "stdout",
          "text": [
            "Выручка по месяцам: {'09': 25647, '12': 45452, '10': 28645, '11': 25098}\n"
          ]
        }
      ]
    }
  ]
}