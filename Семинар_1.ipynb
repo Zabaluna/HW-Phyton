{
  "cells": [
    {
      "cell_type": "markdown",
      "metadata": {
        "id": "view-in-github",
        "colab_type": "text"
      },
      "source": [
        "<a href=\"https://colab.research.google.com/github/Zabaluna/HW-Python/blob/main/%D0%A1%D0%B5%D0%BC%D0%B8%D0%BD%D0%B0%D1%80_1.ipynb\" target=\"_parent\"><img src=\"https://colab.research.google.com/assets/colab-badge.svg\" alt=\"Open In Colab\"/></a>"
      ]
    },
    {
      "cell_type": "markdown",
      "id": "1c1c382a",
      "metadata": {
        "id": "1c1c382a"
      },
      "source": [
        "## Задание 0"
      ]
    },
    {
      "cell_type": "markdown",
      "id": "e98233c9",
      "metadata": {
        "id": "e98233c9"
      },
      "source": [
        "**Я научился пользоваться MarkDown на Jupyter**"
      ]
    },
    {
      "cell_type": "markdown",
      "id": "17e17a0c",
      "metadata": {
        "id": "17e17a0c"
      },
      "source": [
        "## Задание 1"
      ]
    },
    {
      "cell_type": "markdown",
      "id": "cfaccb3c",
      "metadata": {
        "id": "cfaccb3c"
      },
      "source": [
        "### Задание 1.1\n"
      ]
    },
    {
      "cell_type": "code",
      "execution_count": null,
      "id": "bdefab48",
      "metadata": {
        "id": "bdefab48",
        "outputId": "455b9d24-2a82-4fc2-c336-4ce1cc0ca9fd"
      },
      "outputs": [
        {
          "data": {
            "text/plain": [
              "{'One': 1, 'Two': 2, 'Three': 3, 'Four': 4, 'Five': 5, 'Six': 6}"
            ]
          },
          "execution_count": 1,
          "metadata": {},
          "output_type": "execute_result"
        }
      ],
      "source": [
        "dict1 = {'One': 1, 'Two': 2, 'Three': 3}\n",
        "dict2 = {'Four': 4, 'Five': 5, 'Six': 6}\n",
        "dict1.update(dict2)\n",
        "dict1"
      ]
    },
    {
      "cell_type": "markdown",
      "id": "e8648b01",
      "metadata": {
        "id": "e8648b01"
      },
      "source": [
        "### Задание 1.2"
      ]
    },
    {
      "cell_type": "code",
      "execution_count": null,
      "id": "1820b267",
      "metadata": {
        "scrolled": true,
        "id": "1820b267",
        "outputId": "034077d1-70d2-48b5-b01d-6689680c5550"
      },
      "outputs": [
        {
          "data": {
            "text/plain": [
              "{'One': 1, 'Two': 2, 'Three': 3, 'Four': 4, 'Five': 5, 'Six': 6}"
            ]
          },
          "execution_count": 2,
          "metadata": {},
          "output_type": "execute_result"
        }
      ],
      "source": [
        "def merge_dicts(dict1: dict, dict2: dict) -> dict:\n",
        "    dict1.update(dict2)\n",
        "    return dict1\n",
        "\n",
        "\n",
        "merge_dicts(dict1, dict2)"
      ]
    },
    {
      "cell_type": "markdown",
      "id": "526994de",
      "metadata": {
        "id": "526994de"
      },
      "source": [
        "## Задание 2"
      ]
    },
    {
      "cell_type": "markdown",
      "id": "5ca5f87e",
      "metadata": {
        "id": "5ca5f87e"
      },
      "source": [
        "### Задание 2.1\n"
      ]
    },
    {
      "cell_type": "code",
      "execution_count": null,
      "id": "a7b8c722",
      "metadata": {
        "id": "a7b8c722",
        "outputId": "a4eb935a-8708-4d72-97c4-69cc219712c3"
      },
      "outputs": [
        {
          "data": {
            "text/plain": [
              "{'One': 1, 'Two': 2, 'Three': 3}"
            ]
          },
          "execution_count": 5,
          "metadata": {},
          "output_type": "execute_result"
        }
      ],
      "source": [
        "keys = ['One', 'Two', 'Three']\n",
        "values = [1, 2, 3]\n",
        "result = dict()\n",
        "# len(values) = 3\n",
        "# range(3) = 0, 1, 2\n",
        "# for i in 0, 1, 2:\n",
        "for i in range(len(values)):\n",
        "    result[keys[i]] = values[i]\n",
        "result"
      ]
    },
    {
      "cell_type": "markdown",
      "id": "8927dac6",
      "metadata": {
        "id": "8927dac6"
      },
      "source": [
        "### Задание 2.2\n"
      ]
    },
    {
      "cell_type": "code",
      "execution_count": null,
      "id": "1578e33f",
      "metadata": {
        "id": "1578e33f",
        "outputId": "bf6d2119-c056-4c31-f5be-f280dcabdb6a"
      },
      "outputs": [
        {
          "data": {
            "text/plain": [
              "{'One': 1, 'Two': 2, 'Three': 3}"
            ]
          },
          "execution_count": 4,
          "metadata": {},
          "output_type": "execute_result"
        }
      ],
      "source": [
        "def get_dict(keys: list, values: list) -> dict:\n",
        "    return {keys[i]: values[i] for i in range(len(values))}\n",
        "\n",
        "\n",
        "get_dict(keys, values)"
      ]
    },
    {
      "cell_type": "markdown",
      "id": "bb66cfa7",
      "metadata": {
        "id": "bb66cfa7"
      },
      "source": [
        "## Задание 3"
      ]
    },
    {
      "cell_type": "markdown",
      "id": "1002885f",
      "metadata": {
        "id": "1002885f"
      },
      "source": [
        "### Задание 3.1"
      ]
    },
    {
      "cell_type": "code",
      "execution_count": null,
      "id": "9b321a86",
      "metadata": {
        "id": "9b321a86",
        "outputId": "27a68429-b778-4478-8ac3-cbc7f9eca4a4"
      },
      "outputs": [
        {
          "data": {
            "text/plain": [
              "{'salary': 5000, 'city': 'Moscow'}"
            ]
          },
          "execution_count": 7,
          "metadata": {},
          "output_type": "execute_result"
        }
      ],
      "source": [
        "client_dict = {\n",
        "        \"name\": \"John\",\n",
        "        \"age\": 25,\n",
        "        \"salary\": 5000,\n",
        "        \"city\": \"Moscow\"\n",
        "}\n",
        "def create_dict(client_dict: dict, keys: list=['name', 'age']) -> dict:\n",
        "    result = {}\n",
        "    # ['name', 'age']\n",
        "    for i in keys:\n",
        "        result[i] = client_dict[i]\n",
        "    return result\n",
        "\n",
        "create_dict(client_dict, ['salary', 'city'])"
      ]
    },
    {
      "cell_type": "markdown",
      "id": "0d186c3b",
      "metadata": {
        "id": "0d186c3b"
      },
      "source": [
        "### Задание 3.2"
      ]
    },
    {
      "cell_type": "code",
      "execution_count": null,
      "id": "7ca2ab1d",
      "metadata": {
        "id": "7ca2ab1d",
        "outputId": "561b1305-62c1-439a-f9e5-4604bfc78cc9"
      },
      "outputs": [
        {
          "data": {
            "text/plain": [
              "{'name': 'John', 'age': 25}"
            ]
          },
          "execution_count": 8,
          "metadata": {},
          "output_type": "execute_result"
        }
      ],
      "source": [
        "keys = ['name', 'age']\n",
        "new_dict = {i: client_dict[i] for i in keys}\n",
        "new_dict"
      ]
    },
    {
      "cell_type": "markdown",
      "id": "b8e1613e",
      "metadata": {
        "id": "b8e1613e"
      },
      "source": [
        "## Задание 4"
      ]
    },
    {
      "cell_type": "markdown",
      "id": "71e6c8c2",
      "metadata": {
        "id": "71e6c8c2"
      },
      "source": [
        "### Задание 4.1"
      ]
    },
    {
      "cell_type": "code",
      "execution_count": 8,
      "id": "e1af0429",
      "metadata": {
        "colab": {
          "base_uri": "https://localhost:8080/"
        },
        "id": "e1af0429",
        "outputId": "c2b52a9e-3c6d-47e8-8c5c-6ecdca7f61d0"
      },
      "outputs": [
        {
          "output_type": "stream",
          "name": "stdout",
          "text": [
            "[29, 47, 48, 16, 24]\n"
          ]
        },
        {
          "output_type": "execute_result",
          "data": {
            "text/plain": [
              "[29, 47, 48, 16, 24]"
            ]
          },
          "metadata": {},
          "execution_count": 8
        }
      ],
      "source": [
        "import random\n",
        "\n",
        "\n",
        "random.seed(8)\n",
        "data = [random.randint(0, 101) for i in range(5)]\n",
        "print(data)\n",
        "\n",
        "random.seed(8)\n",
        "data = [random.randint(0, 101) for i in range(5)]\n",
        "data"
      ]
    },
    {
      "cell_type": "markdown",
      "id": "19c8f81c",
      "metadata": {
        "id": "19c8f81c"
      },
      "source": [
        "### Задание 4.2"
      ]
    },
    {
      "cell_type": "code",
      "execution_count": 6,
      "id": "b22339fb",
      "metadata": {
        "id": "b22339fb"
      },
      "outputs": [],
      "source": [
        "import time \n",
        "\n",
        "\n",
        "def elapsed_since(data):\n",
        "    last_time = None\n",
        "    \n",
        "    for item in data:\n",
        "        current_time = time.time()\n",
        "        \n",
        "        if last_time:\n",
        "            delta = current_time - last_time\n",
        "        else:\n",
        "            delta = current_time - current_time\n",
        "        \n",
        "        last_time = time.time()\n",
        "        yield (int(delta), item)\n",
        "  "
      ]
    },
    {
      "cell_type": "code",
      "source": [
        "for t in elapsed_since(data):\n",
        "    print(t)\n",
        "    time.sleep(2)"
      ],
      "metadata": {
        "colab": {
          "base_uri": "https://localhost:8080/"
        },
        "id": "vY-x4XBpYZj1",
        "outputId": "2724a93d-146d-47d6-8d5b-1453045d99a8"
      },
      "id": "vY-x4XBpYZj1",
      "execution_count": 9,
      "outputs": [
        {
          "output_type": "stream",
          "name": "stdout",
          "text": [
            "(0, 29)\n",
            "(2, 47)\n",
            "(2, 48)\n",
            "(2, 16)\n",
            "(2, 24)\n"
          ]
        }
      ]
    },
    {
      "cell_type": "markdown",
      "id": "20cd5451",
      "metadata": {
        "id": "20cd5451"
      },
      "source": [
        "## Задание 6"
      ]
    },
    {
      "cell_type": "code",
      "execution_count": null,
      "id": "6977df7a",
      "metadata": {
        "id": "6977df7a",
        "outputId": "e94a13d9-c1a5-4de9-9dc9-b5eea6144deb"
      },
      "outputs": [
        {
          "data": {
            "text/plain": [
              "{'Общая сумма продуктов': 561, 'Среднее значение': 112.2}"
            ]
          },
          "execution_count": 21,
          "metadata": {},
          "output_type": "execute_result"
        }
      ],
      "source": [
        "def product(*args):\n",
        "    return {\"Общая сумма продуктов\": sum(args), 'Среднее значение': sum(args) / len(args)}\n",
        "\n",
        "\n",
        "product(100, 37, 56, 259, 109)"
      ]
    },
    {
      "cell_type": "markdown",
      "source": [
        "## Задание 5"
      ],
      "metadata": {
        "id": "FdN2F7NgXfn4"
      },
      "id": "FdN2F7NgXfn4"
    },
    {
      "cell_type": "markdown",
      "source": [
        "<img src=https://149695847.v2.pressablecdn.com/wp-content/uploads/2017/06/ea8853d740994d7a23b587d20033c262.jpg width=300>"
      ],
      "metadata": {
        "id": "a5FKV_-vX5A8"
      },
      "id": "a5FKV_-vX5A8"
    },
    {
      "cell_type": "markdown",
      "source": [
        "<table>\n",
        "    <tr>\n",
        "        <td> </td>\n",
        "        <td>До события</td>\n",
        "        <td>Во время события</td>\n",
        "        </tr>\n",
        "    <tr>\n",
        "        <td>1 контрольная точка</td>\n",
        "        <td>250</td>\n",
        "        <td>500</td>\n",
        "    </tr>\n",
        "    <tr>\n",
        "        <td>2 контрольная точка</td>\n",
        "        <td>350</td>\n",
        "        <td>700</td>\n",
        "    </tr>\n",
        "    <tr>\n",
        "        <td>3 контрольная точка</td>\n",
        "        <td>400</td>\n",
        "        <td>800</td>\n",
        "    </tr> \n",
        "    <tr>\n",
        "        <td>Итого за победу</td>\n",
        "        <td>1000</td>\n",
        "        <td>2000</td>\n",
        "    </tr>\n",
        "</table>"
      ],
      "metadata": {
        "id": "Ir67j1lfYIuI"
      },
      "id": "Ir67j1lfYIuI"
    },
    {
      "cell_type": "markdown",
      "source": [
        "### 5.2 Создайте следующую таблицу в ячейке с текстом\n",
        "\n",
        "<img src='https://cdn.playcaliber.com/site/media/news/2021/06/01/4-%D0%A2%D0%B0%D0%B1%D0%BB%D0%B8%D1%86%D0%B0-%D0%BC%D0%B0%D0%BB%D0%B5%D0%BD%D1%8C%D0%BA%D0%B0%D1%8F-%D0%BF%D0%BE-%D1%80%D0%B5%D0%B6%D0%B8%D0%BC%D0%B0%D0%BC-1280%D1%85853.jpg' width=500>"
      ],
      "metadata": {
        "id": "EPg-lkBNYBt2"
      },
      "id": "EPg-lkBNYBt2"
    }
  ],
  "metadata": {
    "kernelspec": {
      "display_name": "Python 3 (ipykernel)",
      "language": "python",
      "name": "python3"
    },
    "language_info": {
      "codemirror_mode": {
        "name": "ipython",
        "version": 3
      },
      "file_extension": ".py",
      "mimetype": "text/x-python",
      "name": "python",
      "nbconvert_exporter": "python",
      "pygments_lexer": "ipython3",
      "version": "3.9.12"
    },
    "colab": {
      "provenance": [],
      "include_colab_link": true
    }
  },
  "nbformat": 4,
  "nbformat_minor": 5
}